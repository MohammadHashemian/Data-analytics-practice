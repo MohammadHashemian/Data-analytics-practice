{
 "cells": [
  {
   "cell_type": "code",
   "execution_count": 2,
   "id": "38be22be",
   "metadata": {
    "vscode": {
     "languageId": "html"
    }
   },
   "outputs": [
    {
     "data": {
      "text/html": [
       "<div>\n",
       "    <label>Introduction to PySpark</label>\n",
       "    <ul>\n",
       "        <li>Setup your working enviroment (Jupyter notebook is recemended)</li>\n",
       "        <li>Install PySpark from Instructions provided. <a href=\"https://spark.apache.org/docs/latest/api/python/getting_started/install.html\">here</a>\n",
       "        <br> Dont forget to install Java SE 8 or above</li>\n",
       "    </ul>\n",
       "    <div>\n",
       "        <a style=\"font-weight: 500; color: red;\">Note:</a> PySpark works with Python 3.11 or older otherwise you may incounter some issues like me.\n",
       "    </div>\n",
       "</div>\n",
       "<div>\n",
       "    <label>Dataset</label>\n",
       "    <ul>\n",
       "        <li>\n",
       "            Medicare Part D Prescribers - by Provider and Drug |\n",
       "            <a href=\"https://data.cms.gov/provider-summary-by-type-of-service/medicare-part-d-prescribers/medicare-part-d-prescribers-by-provider-and-drug\"> Download </a>\n",
       "        </li>\n",
       "    </ul>\n",
       "</div>\n"
      ],
      "text/plain": [
       "<IPython.core.display.HTML object>"
      ]
     },
     "metadata": {},
     "output_type": "display_data"
    }
   ],
   "source": [
    "%%HTML\n",
    "<div>\n",
    "    <label>Introduction to PySpark</label>\n",
    "    <ul>\n",
    "        <li>Setup your working enviroment (Jupyter notebook is recemended)</li>\n",
    "        <li>Install PySpark from Instructions provided. <a href=\"https://spark.apache.org/docs/latest/api/python/getting_started/install.html\">here</a>\n",
    "        <br> Dont forget to install Java SE 8 or above</li>\n",
    "    </ul>\n",
    "    <div>\n",
    "        <a style=\"font-weight: 500; color: red;\">Note:</a> PySpark works with Python 3.11 or older otherwise you may incounter some issues like me.\n",
    "    </div>\n",
    "</div>\n",
    "<div>\n",
    "    <label>Dataset</label>\n",
    "    <ul>\n",
    "        <li>\n",
    "            Medicare Part D Prescribers - by Provider and Drug |\n",
    "            <a href=\"https://data.cms.gov/provider-summary-by-type-of-service/medicare-part-d-prescribers/medicare-part-d-prescribers-by-provider-and-drug\"> Download </a>\n",
    "        </li>\n",
    "    </ul>\n",
    "</div>"
   ]
  },
  {
   "cell_type": "code",
   "execution_count": 3,
   "id": "e2b9d367",
   "metadata": {},
   "outputs": [
    {
     "name": "stdout",
     "output_type": "stream",
     "text": [
      "Running Spark session...\n",
      "Session started\n"
     ]
    },
    {
     "data": {
      "text/html": [
       "\n",
       "            <div>\n",
       "                <p><b>SparkSession - in-memory</b></p>\n",
       "                \n",
       "        <div>\n",
       "            <p><b>SparkContext</b></p>\n",
       "\n",
       "            <p><a href=\"http://Mohammad:4040\">Spark UI</a></p>\n",
       "\n",
       "            <dl>\n",
       "              <dt>Version</dt>\n",
       "                <dd><code>v3.5.1</code></dd>\n",
       "              <dt>Master</dt>\n",
       "                <dd><code>local[*]</code></dd>\n",
       "              <dt>AppName</dt>\n",
       "                <dd><code>First Practise</code></dd>\n",
       "            </dl>\n",
       "        </div>\n",
       "        \n",
       "            </div>\n",
       "        "
      ],
      "text/plain": [
       "<pyspark.sql.session.SparkSession at 0x1eb18092290>"
      ]
     },
     "execution_count": 3,
     "metadata": {},
     "output_type": "execute_result"
    }
   ],
   "source": [
    "from pyspark.sql import SparkSession\n",
    "from pyspark.sql import DataFrameReader, DataFrame\n",
    "\n",
    "# Creating spark session to start using spark\n",
    "# When you are working in clouds you can create multiple instances\n",
    "print(\"Running Spark session...\")\n",
    "session_builder = SparkSession.Builder()\n",
    "session_builder.appName(\"First Practise\")\n",
    "session = session_builder.getOrCreate()\n",
    "print(\"Session started\")\n",
    "\n",
    "# Renaming our variable name for easier understading\n",
    "spark = session\n",
    "spark"
   ]
  },
  {
   "cell_type": "code",
   "execution_count": 4,
   "id": "6f912d0a",
   "metadata": {},
   "outputs": [
    {
     "name": "stdout",
     "output_type": "stream",
     "text": [
      "Reading the dataset...\n"
     ]
    }
   ],
   "source": [
    "# Reading the data from csv file.\n",
    "print(\"Reading the dataset...\")\n",
    "file_path = \"datasets/Medicare-PD/MUP_DPR_RY23_P04_V10_DY21_NPIBN.csv\"\n",
    "df_reader: DataFrameReader = spark.read\n",
    "df: DataFrame = df_reader.csv(header=True, path=file_path, inferSchema=True)\n",
    "print(\"Completed\")"
   ]
  },
  {
   "cell_type": "code",
   "execution_count": null,
   "id": "7b0d7c8f",
   "metadata": {},
   "outputs": [],
   "source": []
  },
  {
   "cell_type": "code",
   "execution_count": 3,
   "id": "14fe2752",
   "metadata": {},
   "outputs": [
    {
     "name": "stdout",
     "output_type": "stream",
     "text": [
      "root\n",
      " |-- Prscrbr_NPI: integer (nullable = true)\n",
      " |-- Prscrbr_Last_Org_Name: string (nullable = true)\n",
      " |-- Prscrbr_First_Name: string (nullable = true)\n",
      " |-- Prscrbr_City: string (nullable = true)\n",
      " |-- Prscrbr_State_Abrvtn: string (nullable = true)\n",
      " |-- Prscrbr_State_FIPS: string (nullable = true)\n",
      " |-- Prscrbr_Type: string (nullable = true)\n",
      " |-- Prscrbr_Type_Src: string (nullable = true)\n",
      " |-- Brnd_Name: string (nullable = true)\n",
      " |-- Gnrc_Name: string (nullable = true)\n",
      " |-- Tot_Clms: integer (nullable = true)\n",
      " |-- Tot_30day_Fills: double (nullable = true)\n",
      " |-- Tot_Day_Suply: integer (nullable = true)\n",
      " |-- Tot_Drug_Cst: double (nullable = true)\n",
      " |-- Tot_Benes: integer (nullable = true)\n",
      " |-- GE65_Sprsn_Flag: string (nullable = true)\n",
      " |-- GE65_Tot_Clms: integer (nullable = true)\n",
      " |-- GE65_Tot_30day_Fills: double (nullable = true)\n",
      " |-- GE65_Tot_Drug_Cst: double (nullable = true)\n",
      " |-- GE65_Tot_Day_Suply: integer (nullable = true)\n",
      " |-- GE65_Bene_Sprsn_Flag: string (nullable = true)\n",
      " |-- GE65_Tot_Benes: integer (nullable = true)\n",
      "\n",
      "Number of rows: 25231862\n"
     ]
    }
   ],
   "source": [
    "# Getting the schema of the data\n",
    "df.printSchema()\n",
    "print(f'Number of rows: {df.count()}')"
   ]
  },
  {
   "cell_type": "code",
   "execution_count": 1,
   "id": "91201796",
   "metadata": {},
   "outputs": [],
   "source": [
    "# Pandas is much slower so reading the dataframe cause out-off-memory"
   ]
  }
 ],
 "metadata": {
  "kernelspec": {
   "display_name": "venv",
   "language": "python",
   "name": "python3"
  },
  "language_info": {
   "codemirror_mode": {
    "name": "ipython",
    "version": 3
   },
   "file_extension": ".py",
   "mimetype": "text/x-python",
   "name": "python",
   "nbconvert_exporter": "python",
   "pygments_lexer": "ipython3",
   "version": "3.11.9"
  }
 },
 "nbformat": 4,
 "nbformat_minor": 5
}
