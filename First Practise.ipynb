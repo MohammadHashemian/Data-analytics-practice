{
 "cells": [
  {
   "cell_type": "code",
   "execution_count": null,
   "id": "38be22be",
   "metadata": {},
   "outputs": [],
   "source": [
    "%%HTML\n",
    "<div>\n",
    "    <label>Introduction to PySpark</label>\n",
    "    <ul>\n",
    "        <li>Setup your working enviroment (Jupyter notebook is recemended)</li>\n",
    "        <li>Install PySpark from Instructions provided. <a href=\"https://spark.apache.org/docs/latest/api/python/getting_started/install.html\">here</a>\n",
    "        <br> Dont forget to install Java SE 8 or above</li>\n",
    "    </ul>\n",
    "</div>"
   ]
  },
  {
   "cell_type": "code",
   "execution_count": null,
   "id": "e2b9d367",
   "metadata": {},
   "outputs": [],
   "source": [
    "from pyspark.sql import SparkSession\n",
    "\n",
    "# Creating spark session to start using spark\n",
    "# When you are working in clouds you can create multiple instances\n",
    "session_builder = SparkSession.Builder()\n",
    "session_builder.appName(\"First Practise\")\n",
    "session = session_builder.getOrCreate()\n",
    "print(type(session))\n",
    "\n",
    "# Renaming our variable for easier understading\n",
    "spark = session\n",
    "spark"
   ]
  },
  {
   "cell_type": "code",
   "execution_count": null,
   "id": "e5e7667d",
   "metadata": {},
   "outputs": [],
   "source": []
  }
 ],
 "metadata": {
  "kernelspec": {
   "display_name": "venv",
   "language": "python",
   "name": "python3"
  },
  "language_info": {
   "codemirror_mode": {
    "name": "ipython",
    "version": 3
   },
   "file_extension": ".py",
   "mimetype": "text/x-python",
   "name": "python",
   "nbconvert_exporter": "python",
   "pygments_lexer": "ipython3",
   "version": "3.12.3"
  }
 },
 "nbformat": 4,
 "nbformat_minor": 5
}
